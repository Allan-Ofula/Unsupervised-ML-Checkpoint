


# Run this cell without changes
import pandas as pd

df = pd.read_csv("sensor_data.csv")
df.head()








# CodeGrade step1
# Replace None with appropriate code

# Import relevant class
from sklearn.preprocessing import StandardScaler
from sklearn.decomposition import PCA

# Create scaled variable
scaler = StandardScaler()
data_scaled = scaler.fit_transform(df)

# Convert data_scaled to a DataFrame for readability
data_scaled = pd.DataFrame(data_scaled, columns=df.columns)
data_scaled


# data_scaled should have the same shape as df
assert data_scaled.shape == df.shape

# data_scaled should not be the same as df
assert data_scaled.loc[0,"angle(Z,gravityMean)"] != df.loc[0,"angle(Z,gravityMean)"]





# CodeGrade step2
# Replace None with appropriate code

# Import relevant class
from sklearn.decomposition import PCA as SKPCA
import numpy as np

# Create a PCA object
pca_transformer =  PCA(n_components=0.95, random_state=42)

# Transform data using pca_transformer
pca_data = pca_transformer.fit_transform(data_scaled)
pca_data


# pca_transformer should be type PCA
assert type(pca_transformer) == PCA


# pca_data should be a NumPy array
import numpy as np
assert type(pca_data) == np.ndarray

# pca_data should have the same number of rows as data_scaled
assert pca_data.shape[0] == data_scaled.shape[0]

# pca_data should have fewer columns than data_scaled
assert pca_data.shape[1] < data_scaled.shape[1]





# Run this cell without changes
import matplotlib.pyplot as plt

fig, ax = plt.subplots()
ax.scatter(x=pca_data[:, 0], y=pca_data[:, 1])
ax.set_xlabel("First Principal Component")
ax.set_ylabel("Second Principal Component")
ax.set_title("Visualizing the First Two Principal Components of Sensor Data");








# CodeGrade step3
# Replace None with appropriate code

# Import relevant model
from sklearn.cluster import KMeans

# Instantiate KMeans model, using the best n_clusters value as indicated by the plot above
kmeans = KMeans(n_clusters=2, random_state=42)

# Fit the model on pca_data
kmeans.fit(pca_data)

kmeans


# kmeans should be a fitted KMeans model with as many dimensions in cluster
# centers as principal components
assert kmeans.cluster_centers_.shape[1] == pca_data.shape[1]





# CodeGrade step4
# Replace None with appropriate code

# Extracting each point’s cluster label
cluster_labels = kmeans.labels_

# # Importing relevant library
import matplotlib.pyplot as plt

fig, ax = plt.subplots(figsize=(8, 6))

scatter = ax.scatter(
    x=pca_data[:, 0],
    y=pca_data[:, 1],
    c=cluster_labels,       # coloring each point by its cluster label
    cmap='tab10',
    alpha=0.7,
    s=30
)

ax.set_xlabel("First Principal Component")
ax.set_ylabel("Second Principal Component")
ax.set_title("KMeans Clusters on First Two PCA Components")

# Adding a legend showing “Cluster 0” vs. “Cluster 1”
legend_elements = scatter.legend_elements(fmt="Cluster {x:.0f}")
ax.legend(*legend_elements, title="Cluster")

plt.show()





# cluster_labels should be a NumPy array
assert type(cluster_labels) == np.ndarray


# Plot should have the same number of colors as kmeans has clusters
assert len(scatter.legend_elements()[0]) == kmeans.n_clusters
